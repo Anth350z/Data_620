{
 "cells": [
  {
   "cell_type": "markdown",
   "metadata": {},
   "source": [
    "#### Data 620 - Project 3 <br> Team 2  <br> July 10, 2019\n",
    "\n",
    "## <center> Network Analysis: Text Mining </center>\n",
    "\n",
    "**This is a Team Project!**  For this project, please work with the entire class as one collaborative group!  Your project should be submitted (as an IPython Notebook via GitHub). You should all submit a link to the same repository.\n",
    "Using any of the three classifiers described in chapter 6 of Natural Language Processing with Python, and any features you can think of, build the best name gender classifier you can. Begin by splitting the Names Corpus into three subsets: 500 words for the test set, 500 words for the dev-test set, and the remaining 6900 words for the training set. Then, starting with the example name gender classifier, make incremental improvements. Use the dev-test set to check your progress. Once you are satisfied with your classifier, check its final performance on the test set. How does the performance on the test set compare to the performance on the dev-test set? Is this what you'd expect? \n",
    "\n",
    "Source: Natural Language Processing with Python, exercise 6.10.2.\n",
    "\n",
    "<font color=blue>**The ability to be an effective member of a virtual team is highly valued in the data science job market.**</font>"
   ]
  },
  {
   "cell_type": "code",
   "execution_count": 518,
   "metadata": {},
   "outputs": [],
   "source": [
    "import pandas as pd \n",
    "import numpy as np\n",
    "import nltk\n",
    "from nltk.corpus import names\n",
    "import random"
   ]
  },
  {
   "cell_type": "markdown",
   "metadata": {},
   "source": [
    "### Data upload and gender labeled"
   ]
  },
  {
   "cell_type": "code",
   "execution_count": 519,
   "metadata": {},
   "outputs": [],
   "source": [
    "# retriving the names from the corpus\n",
    "labeled_names = ([(name, 'male') for name in names.words('male.txt')] +\n",
    "[(name, 'female') for name in names.words('female.txt')])\n",
    "\n",
    "#we randomly shuffle the names\n",
    "random.shuffle(labeled_names)"
   ]
  },
  {
   "cell_type": "code",
   "execution_count": 520,
   "metadata": {},
   "outputs": [
    {
     "data": {
      "text/plain": [
       "[('Englebert', 'male'),\n",
       " ('Finn', 'male'),\n",
       " ('Vally', 'female'),\n",
       " ('Melisenda', 'female'),\n",
       " ('Kirbie', 'female'),\n",
       " ('Hamish', 'male'),\n",
       " ('Katine', 'female'),\n",
       " ('Travis', 'male'),\n",
       " ('Yule', 'male'),\n",
       " ('Johann', 'male')]"
      ]
     },
     "execution_count": 520,
     "metadata": {},
     "output_type": "execute_result"
    }
   ],
   "source": [
    "labeled_names[:10]"
   ]
  },
  {
   "cell_type": "code",
   "execution_count": 521,
   "metadata": {},
   "outputs": [
    {
     "name": "stdout",
     "output_type": "stream",
     "text": [
      "0.776\n"
     ]
    }
   ],
   "source": [
    "#from the book example. this is the started code example on how to creaate features and do the train, test set.\n",
    "\n",
    "def gender_features(word):\n",
    "    return {'last_letter': word[-1]}\n",
    "featuresets = [(gender_features(n), gender) for (n, gender) in labeled_names]\n",
    "train_set, test_set = featuresets[500:], featuresets[:500]\n",
    "classifier = nltk.NaiveBayesClassifier.train(train_set)\n",
    "print(nltk.classify.accuracy(classifier, test_set)) "
   ]
  },
  {
   "cell_type": "markdown",
   "metadata": {},
   "source": [
    "### Gender features function\n",
    "#### we create a second gender functions with more improves in order to get a better predcitor acurracy model we tried different words combinations in order to improve the gender classification\n",
    "1. second letter in the name \n",
    "2. the first 3 letters in the name\n",
    "3. the middle letter of the name\n",
    "4. the last letter of the name\n",
    "5. the last 2 letters of the name\n",
    "6. the combination of the first 2 letters plus the last letter of the name"
   ]
  },
  {
   "cell_type": "code",
   "execution_count": 522,
   "metadata": {},
   "outputs": [],
   "source": [
    "#we create a second gender functions with more improves in order to get a better predcitor acurracy model\n",
    "# we tried different words combinations in order to improve the gender classification\n",
    "#second letter in the name \n",
    "#the first 3 letters in the name\n",
    "# the middle letter of the name\n",
    "#the last letter of the name\n",
    "#the last 2 letters of the name\n",
    "# the combination of the first 2 letters plus the last letter of the name\n",
    "def gender_features_new(word):\n",
    "    word = word.lower()\n",
    "    mid = int(len(word)/2)\n",
    "    return {'comb0': word[1],'comb1': word[:3],'comb2': word[mid:mid+5],'comb3': word[-1],'comb4': word[-2],'comb5': word[:2]+word[-1]}\n",
    "\n"
   ]
  },
  {
   "cell_type": "markdown",
   "metadata": {},
   "source": [
    "#### we split the data in 3 dataset, at the beginning we going to be working with the trainning dataset and the development dataset until we feel confident with the model and then test in again with the test dataset "
   ]
  },
  {
   "cell_type": "code",
   "execution_count": 523,
   "metadata": {},
   "outputs": [],
   "source": [
    "\n",
    "train_names = labeled_names[1500:]\n",
    "devtest_names = labeled_names[500:1500]\n",
    "test_names = labeled_names[:500]"
   ]
  },
  {
   "cell_type": "code",
   "execution_count": 524,
   "metadata": {},
   "outputs": [
    {
     "name": "stdout",
     "output_type": "stream",
     "text": [
      "{'training names count': 6444, 'development names count': 1000, 'testing names count': 500}\n"
     ]
    }
   ],
   "source": [
    "print({'training names count': len(train_names),'development names count':len(devtest_names),'testing names count':len(test_names)})"
   ]
  },
  {
   "cell_type": "code",
   "execution_count": 525,
   "metadata": {},
   "outputs": [],
   "source": [
    "train_set = [(gender_features_new(n), gender) for (n, gender) in train_names]\n",
    "devtest_set = [(gender_features_new(n), gender) for (n, gender) in devtest_names]\n",
    "test_set = [(gender_features_new(n), gender) for (n, gender) in test_names]\n"
   ]
  },
  {
   "cell_type": "code",
   "execution_count": 526,
   "metadata": {},
   "outputs": [],
   "source": [
    "#this loop iterate on the devtest names and call the gender functions to catch and know\n",
    "# which one of the gender prediction went off\n",
    "errors = []\n",
    "for (name, tag) in devtest_names:\n",
    "    guess = classifier.classify(gender_features_new(name))\n",
    "    if guess != tag:\n",
    "        errors.append( (tag, guess, name) )"
   ]
  },
  {
   "cell_type": "code",
   "execution_count": 527,
   "metadata": {},
   "outputs": [
    {
     "name": "stdout",
     "output_type": "stream",
     "text": [
      "{'correct': 'male', 'guessing': 'female', 'name': 'Abbey'}\n",
      "{'correct': 'male', 'guessing': 'female', 'name': 'Abe'}\n",
      "{'correct': 'male', 'guessing': 'female', 'name': 'Aditya'}\n",
      "{'correct': 'male', 'guessing': 'female', 'name': 'Adolpho'}\n",
      "{'correct': 'male', 'guessing': 'female', 'name': 'Aldus'}\n",
      "{'correct': 'male', 'guessing': 'female', 'name': 'Alec'}\n",
      "{'correct': 'male', 'guessing': 'female', 'name': 'Aleck'}\n",
      "{'correct': 'male', 'guessing': 'female', 'name': 'Aleks'}\n",
      "{'correct': 'male', 'guessing': 'female', 'name': 'Alfie'}\n",
      "{'correct': 'male', 'guessing': 'female', 'name': 'Allan'}\n",
      "{'correct': 'male', 'guessing': 'female', 'name': 'Alley'}\n",
      "{'correct': 'male', 'guessing': 'female', 'name': 'Ambrosio'}\n",
      "{'correct': 'male', 'guessing': 'female', 'name': 'Andrea'}\n",
      "{'correct': 'male', 'guessing': 'female', 'name': 'Antoni'}\n",
      "{'correct': 'male', 'guessing': 'female', 'name': 'Apostolos'}\n",
      "{'correct': 'male', 'guessing': 'female', 'name': 'Arnie'}\n",
      "{'correct': 'male', 'guessing': 'female', 'name': 'Ash'}\n",
      "{'correct': 'male', 'guessing': 'female', 'name': 'Augie'}\n",
      "{'correct': 'male', 'guessing': 'female', 'name': 'Baird'}\n",
      "{'correct': 'male', 'guessing': 'female', 'name': 'Bancroft'}\n",
      "{'correct': 'male', 'guessing': 'female', 'name': 'Barde'}\n",
      "{'correct': 'male', 'guessing': 'female', 'name': 'Barnie'}\n",
      "{'correct': 'male', 'guessing': 'female', 'name': 'Barr'}\n",
      "{'correct': 'male', 'guessing': 'female', 'name': 'Barri'}\n",
      "{'correct': 'male', 'guessing': 'female', 'name': 'Bart'}\n",
      "{'correct': 'male', 'guessing': 'female', 'name': 'Bartel'}\n",
      "{'correct': 'male', 'guessing': 'female', 'name': 'Bartholemy'}\n",
      "{'correct': 'male', 'guessing': 'female', 'name': 'Bartlet'}\n",
      "{'correct': 'male', 'guessing': 'female', 'name': 'Basil'}\n",
      "{'correct': 'male', 'guessing': 'female', 'name': 'Baxter'}\n",
      "{'correct': 'male', 'guessing': 'female', 'name': 'Beale'}\n",
      "{'correct': 'male', 'guessing': 'female', 'name': 'Benjamin'}\n",
      "{'correct': 'male', 'guessing': 'female', 'name': 'Benjie'}\n",
      "{'correct': 'male', 'guessing': 'female', 'name': 'Benn'}\n",
      "{'correct': 'male', 'guessing': 'female', 'name': 'Bennet'}\n",
      "{'correct': 'male', 'guessing': 'female', 'name': 'Bentley'}\n",
      "{'correct': 'male', 'guessing': 'female', 'name': 'Berkie'}\n",
      "{'correct': 'male', 'guessing': 'female', 'name': 'Bert'}\n",
      "{'correct': 'male', 'guessing': 'female', 'name': 'Bertrand'}\n",
      "{'correct': 'male', 'guessing': 'female', 'name': 'Bjorne'}\n",
      "{'correct': 'male', 'guessing': 'female', 'name': 'Bo'}\n",
      "{'correct': 'male', 'guessing': 'female', 'name': 'Bogart'}\n",
      "{'correct': 'male', 'guessing': 'female', 'name': 'Brady'}\n",
      "{'correct': 'male', 'guessing': 'female', 'name': 'Brett'}\n",
      "{'correct': 'male', 'guessing': 'female', 'name': 'Briggs'}\n",
      "{'correct': 'male', 'guessing': 'female', 'name': 'Bryant'}\n",
      "{'correct': 'male', 'guessing': 'female', 'name': 'Burke'}\n",
      "{'correct': 'male', 'guessing': 'female', 'name': 'Cam'}\n",
      "{'correct': 'male', 'guessing': 'female', 'name': 'Carlie'}\n",
      "{'correct': 'male', 'guessing': 'female', 'name': 'Case'}\n",
      "{'correct': 'male', 'guessing': 'female', 'name': 'Cecil'}\n",
      "{'correct': 'male', 'guessing': 'female', 'name': 'Chad'}\n",
      "{'correct': 'male', 'guessing': 'female', 'name': 'Chadd'}\n",
      "{'correct': 'male', 'guessing': 'female', 'name': 'Chane'}\n",
      "{'correct': 'male', 'guessing': 'female', 'name': 'Charleton'}\n",
      "{'correct': 'male', 'guessing': 'female', 'name': 'Chris'}\n",
      "{'correct': 'male', 'guessing': 'female', 'name': 'Christiano'}\n",
      "{'correct': 'male', 'guessing': 'female', 'name': 'Christophe'}\n",
      "{'correct': 'male', 'guessing': 'female', 'name': 'Chrisy'}\n",
      "{'correct': 'male', 'guessing': 'female', 'name': 'Clair'}\n",
      "{'correct': 'male', 'guessing': 'female', 'name': 'Clay'}\n",
      "{'correct': 'male', 'guessing': 'female', 'name': 'Claybourne'}\n",
      "{'correct': 'male', 'guessing': 'female', 'name': 'Clayton'}\n",
      "{'correct': 'male', 'guessing': 'female', 'name': 'Clifford'}\n",
      "{'correct': 'male', 'guessing': 'female', 'name': 'Cody'}\n",
      "{'correct': 'male', 'guessing': 'female', 'name': 'Coleman'}\n",
      "{'correct': 'male', 'guessing': 'female', 'name': 'Connie'}\n",
      "{'correct': 'male', 'guessing': 'female', 'name': 'Corrie'}\n",
      "{'correct': 'male', 'guessing': 'female', 'name': 'Dale'}\n",
      "{'correct': 'male', 'guessing': 'female', 'name': 'Darrin'}\n",
      "{'correct': 'male', 'guessing': 'female', 'name': 'Daryl'}\n",
      "{'correct': 'male', 'guessing': 'female', 'name': 'Davis'}\n",
      "{'correct': 'male', 'guessing': 'female', 'name': 'Demetre'}\n",
      "{'correct': 'male', 'guessing': 'female', 'name': 'Dennie'}\n",
      "{'correct': 'male', 'guessing': 'female', 'name': 'Derrick'}\n",
      "{'correct': 'male', 'guessing': 'female', 'name': 'Derrol'}\n",
      "{'correct': 'male', 'guessing': 'female', 'name': 'Dexter'}\n",
      "{'correct': 'male', 'guessing': 'female', 'name': 'Diego'}\n",
      "{'correct': 'male', 'guessing': 'female', 'name': 'Dimitris'}\n",
      "{'correct': 'male', 'guessing': 'female', 'name': 'Donn'}\n",
      "{'correct': 'male', 'guessing': 'female', 'name': 'Donnie'}\n",
      "{'correct': 'male', 'guessing': 'female', 'name': 'Donny'}\n",
      "{'correct': 'male', 'guessing': 'female', 'name': 'Doyle'}\n",
      "{'correct': 'male', 'guessing': 'female', 'name': 'Dustin'}\n",
      "{'correct': 'male', 'guessing': 'female', 'name': 'Easton'}\n",
      "{'correct': 'male', 'guessing': 'female', 'name': 'Eliot'}\n",
      "{'correct': 'male', 'guessing': 'female', 'name': 'Elliott'}\n",
      "{'correct': 'male', 'guessing': 'female', 'name': 'Ellis'}\n",
      "{'correct': 'male', 'guessing': 'female', 'name': 'Ely'}\n",
      "{'correct': 'male', 'guessing': 'female', 'name': 'Emmet'}\n",
      "{'correct': 'male', 'guessing': 'female', 'name': 'Ephrayim'}\n",
      "{'correct': 'male', 'guessing': 'female', 'name': 'Erhard'}\n",
      "{'correct': 'male', 'guessing': 'female', 'name': 'Erich'}\n",
      "{'correct': 'male', 'guessing': 'female', 'name': 'Erick'}\n",
      "{'correct': 'male', 'guessing': 'female', 'name': 'Ernesto'}\n",
      "{'correct': 'male', 'guessing': 'female', 'name': 'Errol'}\n",
      "{'correct': 'male', 'guessing': 'female', 'name': 'Esau'}\n",
      "{'correct': 'male', 'guessing': 'female', 'name': 'Fernando'}\n",
      "{'correct': 'male', 'guessing': 'female', 'name': 'Fleming'}\n",
      "{'correct': 'male', 'guessing': 'female', 'name': 'Flipper'}\n",
      "{'correct': 'male', 'guessing': 'female', 'name': 'Floyd'}\n",
      "{'correct': 'male', 'guessing': 'female', 'name': 'Fonzie'}\n",
      "{'correct': 'male', 'guessing': 'female', 'name': 'Forrester'}\n",
      "{'correct': 'male', 'guessing': 'female', 'name': 'Frederic'}\n",
      "{'correct': 'male', 'guessing': 'female', 'name': 'Fredrick'}\n",
      "{'correct': 'male', 'guessing': 'female', 'name': 'Fulton'}\n",
      "{'correct': 'male', 'guessing': 'female', 'name': 'Garcon'}\n",
      "{'correct': 'male', 'guessing': 'female', 'name': 'Garp'}\n",
      "{'correct': 'male', 'guessing': 'female', 'name': 'Garret'}\n",
      "{'correct': 'male', 'guessing': 'female', 'name': 'Gasper'}\n",
      "{'correct': 'male', 'guessing': 'female', 'name': 'Gaven'}\n",
      "{'correct': 'male', 'guessing': 'female', 'name': 'Gay'}\n",
      "{'correct': 'male', 'guessing': 'female', 'name': 'Geo'}\n",
      "{'correct': 'male', 'guessing': 'female', 'name': 'Gerold'}\n",
      "{'correct': 'male', 'guessing': 'female', 'name': 'Gerry'}\n",
      "{'correct': 'male', 'guessing': 'female', 'name': 'Gershom'}\n",
      "{'correct': 'male', 'guessing': 'female', 'name': 'Gideon'}\n",
      "{'correct': 'male', 'guessing': 'female', 'name': 'Giles'}\n",
      "{'correct': 'male', 'guessing': 'female', 'name': 'Giordano'}\n",
      "{'correct': 'male', 'guessing': 'female', 'name': 'Giraldo'}\n",
      "{'correct': 'male', 'guessing': 'female', 'name': 'Glen'}\n",
      "{'correct': 'male', 'guessing': 'female', 'name': 'Godfree'}\n",
      "{'correct': 'male', 'guessing': 'female', 'name': 'Granville'}\n",
      "{'correct': 'male', 'guessing': 'female', 'name': 'Guillaume'}\n",
      "{'correct': 'male', 'guessing': 'female', 'name': 'Gustavus'}\n",
      "{'correct': 'male', 'guessing': 'female', 'name': 'Hadleigh'}\n",
      "{'correct': 'male', 'guessing': 'female', 'name': 'Hagen'}\n",
      "{'correct': 'male', 'guessing': 'female', 'name': 'Hallam'}\n",
      "{'correct': 'male', 'guessing': 'female', 'name': 'Hamil'}\n",
      "{'correct': 'male', 'guessing': 'female', 'name': 'Harald'}\n",
      "{'correct': 'male', 'guessing': 'female', 'name': 'Harrold'}\n",
      "{'correct': 'male', 'guessing': 'female', 'name': 'Hart'}\n",
      "{'correct': 'male', 'guessing': 'female', 'name': 'Haskel'}\n",
      "{'correct': 'male', 'guessing': 'female', 'name': 'Haydon'}\n",
      "{'correct': 'male', 'guessing': 'female', 'name': 'Heathcliff'}\n",
      "{'correct': 'male', 'guessing': 'female', 'name': 'Heinz'}\n",
      "{'correct': 'male', 'guessing': 'female', 'name': 'Henderson'}\n",
      "{'correct': 'male', 'guessing': 'female', 'name': 'Herb'}\n",
      "{'correct': 'male', 'guessing': 'female', 'name': 'Herman'}\n",
      "{'correct': 'male', 'guessing': 'female', 'name': 'Hew'}\n",
      "{'correct': 'male', 'guessing': 'female', 'name': 'Hewett'}\n",
      "{'correct': 'male', 'guessing': 'female', 'name': 'Hobart'}\n",
      "{'correct': 'male', 'guessing': 'female', 'name': 'Hollis'}\n",
      "{'correct': 'male', 'guessing': 'female', 'name': 'Hugh'}\n",
      "{'correct': 'male', 'guessing': 'female', 'name': 'Hunt'}\n",
      "{'correct': 'male', 'guessing': 'female', 'name': 'Huntlee'}\n",
      "{'correct': 'male', 'guessing': 'female', 'name': 'Husain'}\n",
      "{'correct': 'male', 'guessing': 'female', 'name': 'Hussein'}\n",
      "{'correct': 'male', 'guessing': 'female', 'name': 'Ibrahim'}\n",
      "{'correct': 'male', 'guessing': 'female', 'name': 'Iggy'}\n",
      "{'correct': 'male', 'guessing': 'female', 'name': 'Ike'}\n",
      "{'correct': 'male', 'guessing': 'female', 'name': 'Immanuel'}\n",
      "{'correct': 'male', 'guessing': 'female', 'name': 'Isador'}\n",
      "{'correct': 'male', 'guessing': 'female', 'name': 'Ismail'}\n",
      "{'correct': 'male', 'guessing': 'female', 'name': 'James'}\n",
      "{'correct': 'male', 'guessing': 'female', 'name': 'Jeffrey'}\n",
      "{'correct': 'male', 'guessing': 'female', 'name': 'Jefry'}\n",
      "{'correct': 'male', 'guessing': 'female', 'name': 'Jerald'}\n",
      "{'correct': 'male', 'guessing': 'female', 'name': 'Jermain'}\n",
      "{'correct': 'male', 'guessing': 'female', 'name': 'Jerri'}\n",
      "{'correct': 'male', 'guessing': 'female', 'name': 'Jerrome'}\n",
      "{'correct': 'male', 'guessing': 'female', 'name': 'Jerry'}\n",
      "{'correct': 'male', 'guessing': 'female', 'name': 'Jessie'}\n",
      "{'correct': 'male', 'guessing': 'female', 'name': 'Jethro'}\n",
      "{'correct': 'male', 'guessing': 'female', 'name': 'Job'}\n",
      "{'correct': 'male', 'guessing': 'female', 'name': 'Johan'}\n",
      "{'correct': 'male', 'guessing': 'female', 'name': 'Jonathan'}\n",
      "{'correct': 'male', 'guessing': 'female', 'name': 'Jordon'}\n",
      "{'correct': 'male', 'guessing': 'female', 'name': 'Jory'}\n",
      "{'correct': 'male', 'guessing': 'female', 'name': 'Jose'}\n",
      "{'correct': 'male', 'guessing': 'female', 'name': 'Kane'}\n",
      "{'correct': 'male', 'guessing': 'female', 'name': 'Karl'}\n",
      "{'correct': 'male', 'guessing': 'female', 'name': 'Kendrick'}\n",
      "{'correct': 'male', 'guessing': 'female', 'name': 'Kent'}\n",
      "{'correct': 'male', 'guessing': 'female', 'name': 'Kin'}\n",
      "{'correct': 'male', 'guessing': 'female', 'name': 'King'}\n",
      "{'correct': 'male', 'guessing': 'female', 'name': 'Kirby'}\n",
      "{'correct': 'male', 'guessing': 'female', 'name': 'Klee'}\n",
      "{'correct': 'male', 'guessing': 'female', 'name': 'Kris'}\n",
      "{'correct': 'male', 'guessing': 'female', 'name': 'Kristian'}\n",
      "{'correct': 'male', 'guessing': 'female', 'name': 'Kyle'}\n",
      "{'correct': 'male', 'guessing': 'female', 'name': 'Lawton'}\n",
      "{'correct': 'male', 'guessing': 'female', 'name': 'Leopold'}\n",
      "{'correct': 'male', 'guessing': 'female', 'name': 'Leroy'}\n",
      "{'correct': 'male', 'guessing': 'female', 'name': 'Lion'}\n",
      "{'correct': 'male', 'guessing': 'female', 'name': 'Llewellyn'}\n",
      "{'correct': 'male', 'guessing': 'female', 'name': 'Lloyd'}\n",
      "{'correct': 'male', 'guessing': 'female', 'name': 'Lon'}\n",
      "{'correct': 'male', 'guessing': 'female', 'name': 'Lorne'}\n",
      "{'correct': 'male', 'guessing': 'female', 'name': 'Luce'}\n",
      "{'correct': 'male', 'guessing': 'female', 'name': 'Lucius'}\n",
      "{'correct': 'male', 'guessing': 'female', 'name': 'Luis'}\n",
      "{'correct': 'male', 'guessing': 'female', 'name': 'Mack'}\n",
      "{'correct': 'male', 'guessing': 'female', 'name': 'Magnus'}\n",
      "{'correct': 'male', 'guessing': 'female', 'name': 'Mahmud'}\n",
      "{'correct': 'male', 'guessing': 'female', 'name': 'Marchall'}\n",
      "{'correct': 'male', 'guessing': 'female', 'name': 'Marietta'}\n",
      "{'correct': 'male', 'guessing': 'female', 'name': 'Marion'}\n",
      "{'correct': 'male', 'guessing': 'female', 'name': 'Marlo'}\n",
      "{'correct': 'male', 'guessing': 'female', 'name': 'Marmaduke'}\n",
      "{'correct': 'male', 'guessing': 'female', 'name': 'Marshal'}\n",
      "{'correct': 'male', 'guessing': 'female', 'name': 'Marten'}\n",
      "{'correct': 'male', 'guessing': 'female', 'name': 'Martin'}\n",
      "{'correct': 'male', 'guessing': 'female', 'name': 'Mathew'}\n",
      "{'correct': 'male', 'guessing': 'female', 'name': 'Matt'}\n",
      "{'correct': 'male', 'guessing': 'female', 'name': 'Matthias'}\n",
      "{'correct': 'male', 'guessing': 'female', 'name': 'Matthiew'}\n",
      "{'correct': 'male', 'guessing': 'female', 'name': 'Mayor'}\n",
      "{'correct': 'male', 'guessing': 'female', 'name': 'Melvin'}\n",
      "{'correct': 'male', 'guessing': 'female', 'name': 'Meredith'}\n",
      "{'correct': 'male', 'guessing': 'female', 'name': 'Merill'}\n",
      "{'correct': 'male', 'guessing': 'female', 'name': 'Micah'}\n",
      "{'correct': 'male', 'guessing': 'female', 'name': 'Michail'}\n",
      "{'correct': 'male', 'guessing': 'female', 'name': 'Mikey'}\n",
      "{'correct': 'male', 'guessing': 'female', 'name': 'Moishe'}\n",
      "{'correct': 'male', 'guessing': 'female', 'name': 'Montague'}\n",
      "{'correct': 'male', 'guessing': 'female', 'name': 'Morrie'}\n",
      "{'correct': 'male', 'guessing': 'female', 'name': 'Mortimer'}\n",
      "{'correct': 'male', 'guessing': 'female', 'name': 'Murdock'}\n",
      "{'correct': 'male', 'guessing': 'female', 'name': 'Nahum'}\n",
      "{'correct': 'male', 'guessing': 'female', 'name': 'Nathanial'}\n",
      "{'correct': 'male', 'guessing': 'female', 'name': 'Neddie'}\n",
      "{'correct': 'male', 'guessing': 'female', 'name': 'Neel'}\n",
      "{'correct': 'male', 'guessing': 'female', 'name': 'Nels'}\n",
      "{'correct': 'male', 'guessing': 'female', 'name': 'Newton'}\n",
      "{'correct': 'male', 'guessing': 'female', 'name': 'Niccolo'}\n",
      "{'correct': 'male', 'guessing': 'female', 'name': 'Nickie'}\n",
      "{'correct': 'male', 'guessing': 'female', 'name': 'Nico'}\n",
      "{'correct': 'male', 'guessing': 'female', 'name': 'Noe'}\n",
      "{'correct': 'male', 'guessing': 'female', 'name': 'Obadias'}\n",
      "{'correct': 'male', 'guessing': 'female', 'name': 'Odin'}\n",
      "{'correct': 'male', 'guessing': 'female', 'name': 'Ole'}\n",
      "{'correct': 'male', 'guessing': 'female', 'name': 'Olin'}\n",
      "{'correct': 'male', 'guessing': 'female', 'name': 'Oran'}\n",
      "{'correct': 'male', 'guessing': 'female', 'name': 'Oswell'}\n",
      "{'correct': 'male', 'guessing': 'female', 'name': 'Othello'}\n",
      "{'correct': 'male', 'guessing': 'female', 'name': 'Owen'}\n",
      "{'correct': 'male', 'guessing': 'female', 'name': 'Pablo'}\n",
      "{'correct': 'male', 'guessing': 'female', 'name': 'Palmer'}\n",
      "{'correct': 'male', 'guessing': 'female', 'name': 'Pedro'}\n",
      "{'correct': 'male', 'guessing': 'female', 'name': 'Penny'}\n",
      "{'correct': 'male', 'guessing': 'female', 'name': 'Pepillo'}\n",
      "{'correct': 'male', 'guessing': 'female', 'name': 'Prasad'}\n",
      "{'correct': 'male', 'guessing': 'female', 'name': 'Prince'}\n",
      "{'correct': 'male', 'guessing': 'female', 'name': 'Pyotr'}\n",
      "{'correct': 'male', 'guessing': 'female', 'name': 'Raj'}\n",
      "{'correct': 'male', 'guessing': 'female', 'name': 'Randie'}\n",
      "{'correct': 'male', 'guessing': 'female', 'name': 'Ransom'}\n",
      "{'correct': 'male', 'guessing': 'female', 'name': 'Ray'}\n",
      "{'correct': 'male', 'guessing': 'female', 'name': 'Raymond'}\n",
      "{'correct': 'male', 'guessing': 'female', 'name': 'Raymund'}\n",
      "{'correct': 'male', 'guessing': 'female', 'name': 'Raynard'}\n",
      "{'correct': 'male', 'guessing': 'female', 'name': 'Reed'}\n",
      "{'correct': 'male', 'guessing': 'female', 'name': 'Rem'}\n",
      "{'correct': 'male', 'guessing': 'female', 'name': 'Rene'}\n",
      "{'correct': 'male', 'guessing': 'female', 'name': 'Reube'}\n",
      "{'correct': 'male', 'guessing': 'female', 'name': 'Reuben'}\n",
      "{'correct': 'male', 'guessing': 'female', 'name': 'Ric'}\n",
      "{'correct': 'male', 'guessing': 'female', 'name': 'Richie'}\n",
      "{'correct': 'male', 'guessing': 'female', 'name': 'Rik'}\n",
      "{'correct': 'male', 'guessing': 'female', 'name': 'Robbert'}\n",
      "{'correct': 'male', 'guessing': 'female', 'name': 'Rochester'}\n",
      "{'correct': 'male', 'guessing': 'female', 'name': 'Rodrigo'}\n",
      "{'correct': 'male', 'guessing': 'female', 'name': 'Rog'}\n",
      "{'correct': 'male', 'guessing': 'female', 'name': 'Rogers'}\n",
      "{'correct': 'male', 'guessing': 'female', 'name': 'Rolando'}\n",
      "{'correct': 'male', 'guessing': 'female', 'name': 'Rollin'}\n",
      "{'correct': 'male', 'guessing': 'female', 'name': 'Rubin'}\n",
      "{'correct': 'male', 'guessing': 'female', 'name': 'Rudie'}\n",
      "{'correct': 'male', 'guessing': 'female', 'name': 'Rudyard'}\n",
      "{'correct': 'male', 'guessing': 'female', 'name': 'Rufe'}\n",
      "{'correct': 'male', 'guessing': 'female', 'name': 'Rufus'}\n",
      "{'correct': 'male', 'guessing': 'female', 'name': 'Russel'}\n",
      "{'correct': 'male', 'guessing': 'female', 'name': 'Rutherford'}\n",
      "{'correct': 'male', 'guessing': 'female', 'name': 'Rutledge'}\n",
      "{'correct': 'male', 'guessing': 'female', 'name': 'Salvatore'}\n",
      "{'correct': 'male', 'guessing': 'female', 'name': 'Sammie'}\n",
      "{'correct': 'male', 'guessing': 'female', 'name': 'Sammy'}\n",
      "{'correct': 'male', 'guessing': 'female', 'name': 'Sarge'}\n",
      "{'correct': 'male', 'guessing': 'female', 'name': 'Saunders'}\n",
      "{'correct': 'male', 'guessing': 'female', 'name': 'Saxon'}\n",
      "{'correct': 'male', 'guessing': 'female', 'name': 'Serge'}\n",
      "{'correct': 'male', 'guessing': 'female', 'name': 'Seth'}\n",
      "{'correct': 'male', 'guessing': 'female', 'name': 'Shalom'}\n",
      "{'correct': 'male', 'guessing': 'female', 'name': 'Shaw'}\n",
      "{'correct': 'male', 'guessing': 'female', 'name': 'Shep'}\n",
      "{'correct': 'male', 'guessing': 'female', 'name': 'Shepperd'}\n",
      "{'correct': 'male', 'guessing': 'female', 'name': 'Sherman'}\n",
      "{'correct': 'male', 'guessing': 'female', 'name': 'Shorty'}\n",
      "{'correct': 'male', 'guessing': 'female', 'name': 'Silvio'}\n",
      "{'correct': 'male', 'guessing': 'female', 'name': 'Simon'}\n",
      "{'correct': 'male', 'guessing': 'female', 'name': 'Siward'}\n",
      "{'correct': 'male', 'guessing': 'female', 'name': 'Skippie'}\n",
      "{'correct': 'male', 'guessing': 'female', 'name': 'Skylar'}\n",
      "{'correct': 'male', 'guessing': 'female', 'name': 'Slade'}\n",
      "{'correct': 'male', 'guessing': 'female', 'name': 'Spiro'}\n",
      "{'correct': 'male', 'guessing': 'female', 'name': 'Spiros'}\n",
      "{'correct': 'male', 'guessing': 'female', 'name': 'Stanly'}\n",
      "{'correct': 'male', 'guessing': 'female', 'name': 'Tabbie'}\n",
      "{'correct': 'male', 'guessing': 'female', 'name': 'Taite'}\n",
      "{'correct': 'male', 'guessing': 'female', 'name': 'Tammy'}\n",
      "{'correct': 'male', 'guessing': 'female', 'name': 'Tanner'}\n",
      "{'correct': 'male', 'guessing': 'female', 'name': 'Teddy'}\n",
      "{'correct': 'male', 'guessing': 'female', 'name': 'Temp'}\n",
      "{'correct': 'male', 'guessing': 'female', 'name': 'Terrill'}\n",
      "{'correct': 'male', 'guessing': 'female', 'name': 'Tharen'}\n",
      "{'correct': 'male', 'guessing': 'female', 'name': 'Thatcher'}\n",
      "{'correct': 'male', 'guessing': 'female', 'name': 'Theodoric'}\n",
      "{'correct': 'male', 'guessing': 'female', 'name': 'Thurstan'}\n",
      "{'correct': 'male', 'guessing': 'female', 'name': 'Tobie'}\n",
      "{'correct': 'male', 'guessing': 'female', 'name': 'Tobin'}\n",
      "{'correct': 'male', 'guessing': 'female', 'name': 'Toby'}\n",
      "{'correct': 'male', 'guessing': 'female', 'name': 'Tony'}\n",
      "{'correct': 'male', 'guessing': 'female', 'name': 'Torr'}\n",
      "{'correct': 'male', 'guessing': 'female', 'name': 'Townie'}\n",
      "{'correct': 'male', 'guessing': 'female', 'name': 'Trace'}\n",
      "{'correct': 'male', 'guessing': 'female', 'name': 'Tray'}\n",
      "{'correct': 'male', 'guessing': 'female', 'name': 'Tre'}\n",
      "{'correct': 'male', 'guessing': 'female', 'name': 'Tudor'}\n",
      "{'correct': 'male', 'guessing': 'female', 'name': 'Tull'}\n",
      "{'correct': 'male', 'guessing': 'female', 'name': 'Uli'}\n",
      "{'correct': 'male', 'guessing': 'female', 'name': 'Umberto'}\n",
      "{'correct': 'male', 'guessing': 'female', 'name': 'Uri'}\n",
      "{'correct': 'male', 'guessing': 'female', 'name': 'Vance'}\n",
      "{'correct': 'male', 'guessing': 'female', 'name': 'Vasilis'}\n",
      "{'correct': 'male', 'guessing': 'female', 'name': 'Vasily'}\n",
      "{'correct': 'male', 'guessing': 'female', 'name': 'Vick'}\n",
      "{'correct': 'male', 'guessing': 'female', 'name': 'Vin'}\n",
      "{'correct': 'male', 'guessing': 'female', 'name': 'Vinod'}\n",
      "{'correct': 'male', 'guessing': 'female', 'name': 'Vladamir'}\n",
      "{'correct': 'male', 'guessing': 'female', 'name': 'Von'}\n",
      "{'correct': 'male', 'guessing': 'female', 'name': 'Waiter'}\n",
      "{'correct': 'male', 'guessing': 'female', 'name': 'Wallache'}\n",
      "{'correct': 'male', 'guessing': 'female', 'name': 'Walt'}\n",
      "{'correct': 'male', 'guessing': 'female', 'name': 'Web'}\n",
      "{'correct': 'male', 'guessing': 'female', 'name': 'Weber'}\n",
      "{'correct': 'male', 'guessing': 'female', 'name': 'Welby'}\n",
      "{'correct': 'male', 'guessing': 'female', 'name': 'Wesley'}\n",
      "{'correct': 'male', 'guessing': 'female', 'name': 'Wheeler'}\n",
      "{'correct': 'male', 'guessing': 'female', 'name': 'Woochang'}\n",
      "{'correct': 'male', 'guessing': 'female', 'name': 'Ximenez'}\n",
      "{'correct': 'male', 'guessing': 'female', 'name': 'Yard'}\n",
      "{'correct': 'male', 'guessing': 'female', 'name': 'Yardley'}\n",
      "{'correct': 'male', 'guessing': 'female', 'name': 'Zach'}\n",
      "{'correct': 'male', 'guessing': 'female', 'name': 'Zary'}\n",
      "{'correct': 'male', 'guessing': 'female', 'name': 'Zolly'}\n"
     ]
    }
   ],
   "source": [
    "'''\n",
    "printing the arrays for the wrong prection gender\n",
    "here we observe if they are some pattern on the names and that why we start creating combination \n",
    "letters and selecting letters that can give a better improve to the algorithym and predict better '''\n",
    "for (tag_gender_name, guess_name, name) in sorted(errors):\n",
    "        print({'correct': tag_gender_name,'guessing':guess_name,'name':name})"
   ]
  },
  {
   "cell_type": "code",
   "execution_count": 528,
   "metadata": {},
   "outputs": [
    {
     "data": {
      "text/plain": [
       "346"
      ]
     },
     "execution_count": 528,
     "metadata": {},
     "output_type": "execute_result"
    }
   ],
   "source": [
    "#how many wrongs predictions we have \n",
    "len(errors)"
   ]
  },
  {
   "cell_type": "code",
   "execution_count": 529,
   "metadata": {},
   "outputs": [
    {
     "name": "stdout",
     "output_type": "stream",
     "text": [
      "Most Informative Features\n",
      "             last_letter = 'a'            female : male   =     34.2 : 1.0\n",
      "             last_letter = 'k'              male : female =     32.9 : 1.0\n",
      "             last_letter = 'f'              male : female =     29.0 : 1.0\n",
      "             last_letter = 'p'              male : female =     12.6 : 1.0\n",
      "             last_letter = 'v'              male : female =     11.3 : 1.0\n",
      "             last_letter = 'd'              male : female =     10.5 : 1.0\n",
      "             last_letter = 'o'              male : female =      8.5 : 1.0\n",
      "             last_letter = 'm'              male : female =      8.1 : 1.0\n",
      "             last_letter = 'r'              male : female =      7.0 : 1.0\n",
      "             last_letter = 'g'              male : female =      5.9 : 1.0\n",
      "None\n"
     ]
    }
   ],
   "source": [
    "# This print some of the informtive analysis that find down to be accurate depending a pattern\n",
    "print(classifier.show_most_informative_features())"
   ]
  },
  {
   "cell_type": "code",
   "execution_count": 809,
   "metadata": {},
   "outputs": [
    {
     "name": "stdout",
     "output_type": "stream",
     "text": [
      "0.842\n"
     ]
    }
   ],
   "source": [
    "'''\n",
    "This the classifier using Naives Bayes and using devtest_set againts the train set\n",
    "we use this as many as posible everything we add a new combination to the gender gestures \n",
    "function and after we thought we have a good model with a prediction above 80 % \n",
    "'''\n",
    "\n",
    "classifier = nltk.NaiveBayesClassifier.train(train_set) \n",
    "print(nltk.classify.accuracy(classifier, devtest_set)) "
   ]
  },
  {
   "cell_type": "code",
   "execution_count": 810,
   "metadata": {},
   "outputs": [
    {
     "name": "stdout",
     "output_type": "stream",
     "text": [
      "0.831\n"
     ]
    }
   ],
   "source": [
    "'''\n",
    "after all the improvement done using devtest_test we finally going to test it using the test_set for which \n",
    "we havent test it with the final model predictor\n",
    "'''\n",
    "classifier = nltk.NaiveBayesClassifier.train(train_set) \n",
    "print(nltk.classify.accuracy(classifier, test_set)) "
   ]
  },
  {
   "cell_type": "code",
   "execution_count": null,
   "metadata": {},
   "outputs": [],
   "source": []
  },
  {
   "cell_type": "markdown",
   "metadata": {},
   "source": [
    "### scikit-Learn "
   ]
  },
  {
   "cell_type": "markdown",
   "metadata": {},
   "source": [
    "After we tried with NlTK package we also apporach a solution using the scikit learn package and use machine learning and see what acurracy result we get"
   ]
  },
  {
   "cell_type": "markdown",
   "metadata": {},
   "source": [
    "we create a new gender feature from the previews one that we use for the nltk predictor model and make some new changes to the features."
   ]
  },
  {
   "cell_type": "code",
   "execution_count": 801,
   "metadata": {},
   "outputs": [],
   "source": [
    "def gender_features_new_2(word):\n",
    "    word = word.lower()\n",
    "    mid = int(len(word)/2)\n",
    "    return {'comb0': word[1],'comb1': word[:3],'comb2': word[mid:mid+3],'comb3': word[-1],'comb4': word[-2],'comb5': word[:1]+word[-1]}\n",
    "\n"
   ]
  },
  {
   "cell_type": "code",
   "execution_count": null,
   "metadata": {},
   "outputs": [],
   "source": []
  },
  {
   "cell_type": "code",
   "execution_count": null,
   "metadata": {},
   "outputs": [],
   "source": []
  },
  {
   "cell_type": "code",
   "execution_count": 812,
   "metadata": {},
   "outputs": [],
   "source": [
    "#we put the names data into dataframe for better accesing it \n",
    "dataset = pd.DataFrame(labeled_names)\n"
   ]
  },
  {
   "cell_type": "markdown",
   "metadata": {},
   "source": [
    "#### in the section below we use train_test_split function to split the data on 80/20. 80 percent for training and 20 percent for testing. n"
   ]
  },
  {
   "cell_type": "code",
   "execution_count": 802,
   "metadata": {},
   "outputs": [],
   "source": [
    "#we prepare and split the data for atrining \n",
    "from sklearn.model_selection import train_test_split\n",
    "from sklearn.feature_extraction import DictVectorizer\n",
    "#we create a vectorize function calling the features function in order to obtain back an array with all the data organize \n",
    "#ready for the training \n",
    "func_gender = np.vectorize(gender_features_new_2)\n",
    "\n",
    "#we call the function on the whole dataset to retrieve the names \n",
    "name = func_gender(dataset[0])\n",
    "#we retrieved the gender \n",
    "gender = dataset[1]\n",
    "vectorizer = DictVectorizer()\n",
    "\n",
    "#training the data splitting with 80/20%\n",
    "X_train, X_test, y_train, y_test = train_test_split(name,gender,test_size=0.2, shuffle=True,random_state=0,  stratify=label)\n",
    "\n",
    "#we fit the train data onto vectorize dictionary \n",
    "vect = vectorizer.fit(X_train)\n",
    "                "
   ]
  },
  {
   "cell_type": "code",
   "execution_count": 679,
   "metadata": {},
   "outputs": [
    {
     "name": "stdout",
     "output_type": "stream",
     "text": [
      "6355 1589 6355 1589\n"
     ]
    }
   ],
   "source": [
    "#we can see how the data is split \n",
    "print( len(X_train), len(X_test), len(y_train), len(y_test) )"
   ]
  },
  {
   "cell_type": "code",
   "execution_count": 817,
   "metadata": {},
   "outputs": [
    {
     "name": "stdout",
     "output_type": "stream",
     "text": [
      "[{'comb0': 'a', 'comb1': 'cat', 'comb2': 'thy', 'comb3': 'y', 'comb4': 'h', 'comb5': 'cy'}\n",
      " {'comb0': 'a', 'comb1': 'mar', 'comb2': 'rk', 'comb3': 'k', 'comb4': 'r', 'comb5': 'mk'}]\n"
     ]
    }
   ],
   "source": [
    "#this is how the name are after we call the function and return the array\n",
    "print(func_gender(['Cathy',\"Mark\"]))"
   ]
  },
  {
   "cell_type": "code",
   "execution_count": null,
   "metadata": {},
   "outputs": [],
   "source": []
  },
  {
   "cell_type": "code",
   "execution_count": null,
   "metadata": {},
   "outputs": [],
   "source": []
  },
  {
   "cell_type": "code",
   "execution_count": 804,
   "metadata": {},
   "outputs": [
    {
     "name": "stdout",
     "output_type": "stream",
     "text": [
      "Accuracy: 0.8632572777340677\n",
      "Accuracy: 0.8401510383889238\n"
     ]
    }
   ],
   "source": [
    "#we going to use the Naive Bayes also from the scikit learn packages \n",
    "from sklearn.naive_bayes import MultinomialNB\n",
    "\n",
    "clf = MultinomialNB()\n",
    "clf.fit(vect.transform(X_train),y_train)\n",
    "\n",
    "print(\"Accuracy: \" + str(clf.score(vect.transform(X_train), y_train)))\n",
    "print(\"Accuracy: \" + str(clf.score(vect.transform(X_test), y_test)))"
   ]
  },
  {
   "cell_type": "code",
   "execution_count": 818,
   "metadata": {},
   "outputs": [],
   "source": [
    "from sklearn.linear_model import SGDClassifier"
   ]
  },
  {
   "cell_type": "code",
   "execution_count": 820,
   "metadata": {},
   "outputs": [
    {
     "data": {
      "text/plain": [
       "SGDClassifier(alpha=0.0001, average=False, class_weight=None,\n",
       "              early_stopping=False, epsilon=0.1, eta0=0.0, fit_intercept=True,\n",
       "              l1_ratio=0.15, learning_rate='optimal', loss='hinge',\n",
       "              max_iter=1000, n_iter_no_change=5, n_jobs=None, penalty='l2',\n",
       "              power_t=0.5, random_state=None, shuffle=True, tol=0.001,\n",
       "              validation_fraction=0.1, verbose=0, warm_start=False)"
      ]
     },
     "execution_count": 820,
     "metadata": {},
     "output_type": "execute_result"
    }
   ],
   "source": [
    "ok = SGDClassifier()\n",
    "ok.fit(vect.transform(X_train),y_train)"
   ]
  },
  {
   "cell_type": "code",
   "execution_count": 822,
   "metadata": {},
   "outputs": [
    {
     "name": "stdout",
     "output_type": "stream",
     "text": [
      "Accuracy: 0.9362706530291109\n",
      "Accuracy: 0.8307111390811831\n"
     ]
    }
   ],
   "source": [
    "print(\"Accuracy: \" + str(ok.score(vect.transform(X_train), y_train)))\n",
    "print(\"Accuracy: \" + str(ok.score(vect.transform(X_test), y_test)))"
   ]
  },
  {
   "cell_type": "code",
   "execution_count": null,
   "metadata": {},
   "outputs": [],
   "source": []
  },
  {
   "cell_type": "code",
   "execution_count": 823,
   "metadata": {},
   "outputs": [],
   "source": [
    "from sklearn.ensemble import RandomForestClassifier"
   ]
  },
  {
   "cell_type": "code",
   "execution_count": 824,
   "metadata": {},
   "outputs": [
    {
     "name": "stderr",
     "output_type": "stream",
     "text": [
      "/anaconda3/lib/python3.6/site-packages/sklearn/ensemble/forest.py:245: FutureWarning: The default value of n_estimators will change from 10 in version 0.20 to 100 in 0.22.\n",
      "  \"10 in version 0.20 to 100 in 0.22.\", FutureWarning)\n"
     ]
    },
    {
     "data": {
      "text/plain": [
       "RandomForestClassifier(bootstrap=True, class_weight=None, criterion='gini',\n",
       "                       max_depth=None, max_features='auto', max_leaf_nodes=None,\n",
       "                       min_impurity_decrease=0.0, min_impurity_split=None,\n",
       "                       min_samples_leaf=1, min_samples_split=2,\n",
       "                       min_weight_fraction_leaf=0.0, n_estimators=10,\n",
       "                       n_jobs=None, oob_score=False, random_state=None,\n",
       "                       verbose=0, warm_start=False)"
      ]
     },
     "execution_count": 824,
     "metadata": {},
     "output_type": "execute_result"
    }
   ],
   "source": [
    "ok2 = RandomForestClassifier()\n",
    "ok2.fit(vect.transform(X_train),y_train)"
   ]
  },
  {
   "cell_type": "code",
   "execution_count": 825,
   "metadata": {},
   "outputs": [
    {
     "name": "stdout",
     "output_type": "stream",
     "text": [
      "Accuracy: 0.9521636506687647\n",
      "Accuracy: 0.8030207677784771\n"
     ]
    }
   ],
   "source": [
    "print(\"Accuracy: \" + str(ok2.score(vect.transform(X_train), y_train)))\n",
    "print(\"Accuracy: \" + str(ok2.score(vect.transform(X_test), y_test)))"
   ]
  },
  {
   "cell_type": "markdown",
   "metadata": {},
   "source": [
    "### References "
   ]
  },
  {
   "cell_type": "markdown",
   "metadata": {},
   "source": [
    "1. https://www.nltk.org/book/ch06.html#fig-supervised-classification\n",
    "2. https://scikit-learn.org/stable/modules/generated/sklearn.ensemble.RandomForestClassifier.html\n",
    "3. https://nlpforhackers.io/introduction-machine-learning/"
   ]
  },
  {
   "cell_type": "code",
   "execution_count": null,
   "metadata": {},
   "outputs": [],
   "source": []
  }
 ],
 "metadata": {
  "kernelspec": {
   "display_name": "Python 3",
   "language": "python",
   "name": "python3"
  },
  "language_info": {
   "codemirror_mode": {
    "name": "ipython",
    "version": 3
   },
   "file_extension": ".py",
   "mimetype": "text/x-python",
   "name": "python",
   "nbconvert_exporter": "python",
   "pygments_lexer": "ipython3",
   "version": "3.6.8"
  }
 },
 "nbformat": 4,
 "nbformat_minor": 2
}
